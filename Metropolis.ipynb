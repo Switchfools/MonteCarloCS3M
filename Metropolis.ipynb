{
 "cells": [
  {
   "cell_type": "markdown",
   "metadata": {},
   "source": [
    "As always first we need to import the modules"
   ]
  },
  {
   "cell_type": "code",
   "execution_count": 1,
   "metadata": {},
   "outputs": [],
   "source": [
    "import numpy as np\n",
    "import matplotlib.pyplot as plt"
   ]
  },
  {
   "cell_type": "markdown",
   "metadata": {},
   "source": [
    "First at all create an square array that contains two values 1 if the spin points up and -1 otherwise. The array must be filled randomly such that it it's initialize in a random state and it must be an numpy array. "
   ]
  },
  {
   "cell_type": "code",
   "execution_count": 2,
   "metadata": {},
   "outputs": [],
   "source": [
    "def prepare_system(L):\n",
    "    \"\"\"\n",
    "    Initialize the system \n",
    "    \n",
    "    Paramaters\n",
    "    ----------\n",
    "    L : system size\n",
    "    \n",
    "    Returns\n",
    "    -------\n",
    "    system: A square numpy array randomly initialize \n",
    "    \"\"\"\n",
    "    return system"
   ]
  },
  {
   "cell_type": "markdown",
   "metadata": {},
   "source": [
    "Make a function that return the energy associated with one spin, use the ising model, measure the energy just taking care of the first neighbors : https://es.wikipedia.org/wiki/Modelo_de_Ising"
   ]
  },
  {
   "cell_type": "code",
   "execution_count": 3,
   "metadata": {},
   "outputs": [],
   "source": [
    "def energy(system, i, j, L):\n",
    "    \"\"\"Measure the energy of a single spin in the array,. Take care of the borders \n",
    "    \n",
    "    Paramaters\n",
    "    ----------\n",
    "    system : the actual numpy array, that contains the state of the system\n",
    "    i : position in x of the spin in the matrix\n",
    "    j : position in y of the spin in the matrix\n",
    "    L : system size\n",
    "    \n",
    "    Returns\n",
    "    -------\n",
    "    E: energy of the spin\n",
    "    \"\"\"\n",
    "    return E"
   ]
  },
  {
   "cell_type": "markdown",
   "metadata": {},
   "source": [
    "Make a function that checks all the spins and add the energy of every spin, such that you can measure the energy of the whole system."
   ]
  },
  {
   "cell_type": "code",
   "execution_count": 4,
   "metadata": {},
   "outputs": [],
   "source": [
    "def measure_energy(system):\n",
    "    \"\"\"run a monte carlo simulation for given system size.\n",
    "    \n",
    "    Paramaters\n",
    "    ----------\n",
    "    system : the actual numpy array, that contains the state of the system\n",
    "    \n",
    "    Returns\n",
    "    -------\n",
    "    E_T: Total energy of the system\n",
    "    \"\"\"\n",
    "    L = system.shape[0]\n",
    "    return E_T"
   ]
  },
  {
   "cell_type": "markdown",
   "metadata": {},
   "source": [
    "Make the metropolis loop that minimize the energy, don't forget to take into account the probability associated with thermal fluctuation $p(E_i)= e^{-\\frac{E_i}{K_BT}}$, and store the measured energy in an array. "
   ]
  },
  {
   "cell_type": "code",
   "execution_count": 5,
   "metadata": {},
   "outputs": [],
   "source": [
    "def metropolis_loop(system, T, N_sweeps, N_eq, N_flips):\n",
    "    \"\"\"run a monte carlo simulation for given system size.\n",
    "    \n",
    "    Paramaters\n",
    "    ----------\n",
    "    system : the actual numpy array, that contains the state of the system\n",
    "    T: temperature of the system\n",
    "    N_sweeps : number of steps for the measurements\n",
    "    N_eq : number of equilibration steps. Defaults to N_sweeps/10.\n",
    "    N_flips : number of updates between measurements.\n",
    "    \n",
    "    Returns\n",
    "    -------\n",
    "    E_list : energies at a given temperature\n",
    "    \"\"\"\n",
    "    E = measure_energy(system)\n",
    "    L = system.shape[0]\n",
    "    E_list = []\n",
    "    for step in range(N_sweeps + N_eq):\n",
    "        if dE <= 'fill here':\n",
    "            #fill here'\n",
    "        elif np.exp(-1. / T * dE) > 'fill here':\n",
    "            #fill here\n",
    "\n",
    "        if step >= N_eq and np.mod(step, N_flips) == 0:\n",
    "            # measurement\n",
    "            E_list.append(E)\n",
    "    return np.array(E_list)"
   ]
  },
  {
   "cell_type": "markdown",
   "metadata": {},
   "source": [
    "When you have finish run the next two section to check that your code is working properly, and recovers the graphs. "
   ]
  },
  {
   "cell_type": "code",
   "execution_count": 6,
   "metadata": {},
   "outputs": [
    {
     "name": "stdout",
     "output_type": "stream",
     "text": [
      "1.5 -31.112 [0.18692622222222327, 0.018100955844074756]\n",
      "1.6 -30.976 [0.2693960937500003, 0.04238571466172586]\n",
      "1.7000000000000002 -29.536 [0.3307806228373701, 0.03198572942534769]\n",
      "1.8000000000000003 -30.16 [0.40119506172839525, 0.05991326365585543]\n",
      "1.9000000000000004 -29.08 [0.4191994459833789, 0.04057487375956725]\n",
      "2.0000000000000004 -27.384 [0.5713068999999997, 0.05618389844456333]\n",
      "2.1000000000000005 -27.784 [0.6516270294784575, 0.02887883002296213]\n",
      "2.2000000000000006 -26.104 [0.6916585123966936, 0.04142416708580635]\n",
      "2.3000000000000007 -24.824 [0.8141911531190923, 0.028191014997176207]\n",
      "2.400000000000001 -23.688 [0.7937839583333329, 0.011004600462585865]\n",
      "2.500000000000001 -22.192 [0.7567285119999995, 0.020016523410234653]\n",
      "2.600000000000001 -19.68 [0.8110626627218929, 0.014237427874086044]\n",
      "2.700000000000001 -19.192 [0.7411567626886142, 0.01807283707562861]\n",
      "2.800000000000001 -17.072 [0.6872705612244892, 0.015522530164623039]\n",
      "2.9000000000000012 -17.448 [0.6593220927467294, 0.01342502948425117]\n",
      "3.0000000000000013 -14.272 [0.5979678222222218, 0.012997204585632667]\n",
      "2.269185314213022\n"
     ]
    },
    {
     "data": {
      "image/png": "[encoded data removed]",
      "text/plain": [
       "<Figure size 432x288 with 1 Axes>"
      ]
     },
     "metadata": {
      "needs_background": "light"
     },
     "output_type": "display_data"
    }
   ],
   "source": [
    "if __name__ == \"__main__\":\n",
    "    \"\"\" Scan through some temperatures \"\"\"\n",
    "    # Set parameters here\n",
    "    L = 4  # Linear system size\n",
    "    N_sweeps = 5000  # Number of steps for the measurements\n",
    "    N_eq = 1000  # Number of equilibration steps before the measurements start\n",
    "    N_flips = 10  # Number of steps between measurements\n",
    "    N_bins = 10  # Number of bins use for the error analysis\n",
    "\n",
    "    T_range = np.arange(1.5, 3.1, 0.1)\n",
    "\n",
    "    C_list = []\n",
    "    system = prepare_system(L)\n",
    "    for T in T_range:\n",
    "        C_list_bin = []\n",
    "        for k in range(N_bins):\n",
    "            Es = metropolis_loop(system, T, N_sweeps, N_eq, N_flips)\n",
    "\n",
    "            mean_E = np.mean(Es)\n",
    "            mean_E2 = np.mean(Es**2)\n",
    "\n",
    "            C_list_bin.append(1. / T**2. / L**2. * (mean_E2 - mean_E**2))\n",
    "        C_list.append([np.mean(C_list_bin), np.std(C_list_bin) / np.sqrt(N_bins)])\n",
    "\n",
    "        print(T, mean_E, C_list[-1])\n",
    "\n",
    "    # Plot the results\n",
    "    C_list = np.array(C_list)\n",
    "    plt.errorbar(T_range, C_list[:, 0], C_list[:, 1])\n",
    "    Tc = 2. / np.log(1. + np.sqrt(2))\n",
    "    print(Tc)\n",
    "    plt.axvline(Tc, color='r', linestyle='--')\n",
    "    plt.xlabel('$T$')\n",
    "    plt.ylabel('$c$')\n",
    "    plt.show()"
   ]
  },
  {
   "cell_type": "code",
   "execution_count": 9,
   "metadata": {},
   "outputs": [
    {
     "data": {
      "image/png": "[encoded data removed]",
      "text/plain": [
       "<Figure size 720x360 with 3 Axes>"
      ]
     },
     "metadata": {
      "needs_background": "light"
     },
     "output_type": "display_data"
    }
   ],
   "source": [
    "'''Make Plots of your system'''\n",
    "fig, axes = plt.subplots(1, 3, figsize=(10, 5))\n",
    "system = prepare_system(32)\n",
    "Ts =  [5., 2.29, 1.]\n",
    "for i in range(3):\n",
    "    T = Ts[i]\n",
    "    metropolis_loop(system, T, 10000, 1000, 10)  # get typical configurations\n",
    "    axes[i].imshow(system)   # plot it\n",
    "    axes[i].set_title(\"T=\"+str(T))\n",
    "plt.show()"
   ]
  }
 ],
 "metadata": {
  "kernelspec": {
   "display_name": "Python 3",
   "language": "python",
   "name": "python3"
  },
  "language_info": {
   "codemirror_mode": {
    "name": "ipython",
    "version": 3
   },
   "file_extension": ".py",
   "mimetype": "text/x-python",
   "name": "python",
   "nbconvert_exporter": "python",
   "pygments_lexer": "ipython3",
   "version": "3.7.3"
  }
 },
 "nbformat": 4,
 "nbformat_minor": 2
}
