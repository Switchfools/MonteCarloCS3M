{
 "cells": [
  {
   "cell_type": "code",
   "execution_count": 3,
   "metadata": {},
   "outputs": [],
   "source": [
    "import numpy as np\n",
    "import matplotlib.pyplot as plt"
   ]
  },
  {
   "cell_type": "code",
   "execution_count": 4,
   "metadata": {},
   "outputs": [],
   "source": [
    "def energy(system, i, j, L):\n",
    "    \"\"\"Energy function of spins connected to site (i, j).\"\"\"\n",
    "    return -1. * system[i, j] * (system[np.mod(i - 1, L), j] + system[np.mod(i + 1, L), j] +\n",
    "                                 system[i, np.mod(j - 1, L)] + system[i, np.mod(j + 1, L)])"
   ]
  },
  {
   "cell_type": "code",
   "execution_count": 5,
   "metadata": {},
   "outputs": [],
   "source": [
    "def prepare_system(L):\n",
    "    \"\"\"Initialize the system.\"\"\"\n",
    "    system = 2 * (0.5 - np.random.randint(0, 2, size=[L, L]))\n",
    "    return system"
   ]
  },
  {
   "cell_type": "code",
   "execution_count": 6,
   "metadata": {},
   "outputs": [],
   "source": [
    "def measure_energy(system):\n",
    "    L = system.shape[0]\n",
    "    E = 0\n",
    "    for i in range(L):\n",
    "        for j in range(L):\n",
    "            E += energy(system, i, j, L) / 2.\n",
    "    return E"
   ]
  },
  {
   "cell_type": "code",
   "execution_count": 7,
   "metadata": {},
   "outputs": [],
   "source": [
    "def metropolis_loop(system, T, N_sweeps, N_eq, N_flips):\n",
    "    \"\"\" Main loop doing the Metropolis algorithm.\"\"\"\n",
    "    E = measure_energy(system)\n",
    "    L = system.shape[0]\n",
    "    E_list = []\n",
    "    for step in range(N_sweeps + N_eq):\n",
    "        i = np.random.randint(0, L)\n",
    "        j = np.random.randint(0, L)\n",
    "\n",
    "        dE = -2. * energy(system, i, j, L)\n",
    "        if dE <= 0.:\n",
    "            system[i, j] *= -1\n",
    "            E += dE\n",
    "        elif np.exp(-1. / T * dE) > np.random.rand():\n",
    "            system[i, j] *= -1\n",
    "            E += dE\n",
    "\n",
    "        if step >= N_eq and np.mod(step, N_flips) == 0:\n",
    "            # measurement\n",
    "            E_list.append(E)\n",
    "    return np.array(E_list)"
   ]
  },
  {
   "cell_type": "code",
   "execution_count": 8,
   "metadata": {},
   "outputs": [
    {
     "name": "stdout",
     "output_type": "stream",
     "text": [
      "1.5 -31.392 [0.23430471111111079, 0.049597632739494725]\n",
      "1.6 -30.648 [0.2376948437499998, 0.017839868579671334]\n",
      "1.7000000000000002 -30.648 [0.37861024221453216, 0.038172065509156514]\n",
      "1.8000000000000003 -30.048 [0.3681329629629623, 0.02372796507944708]\n",
      "1.9000000000000004 -29.608 [0.504566094182825, 0.05326286434359409]\n",
      "2.0000000000000004 -26.896 [0.6404043999999995, 0.039022509045216446]\n",
      "2.1000000000000005 -25.504 [0.7284897959183672, 0.052422205226098244]\n",
      "2.2000000000000006 -25.976 [0.7525491735537182, 0.02893181424446801]\n",
      "2.3000000000000007 -24.008 [0.7631556899810963, 0.020216282892968545]\n",
      "2.400000000000001 -22.944 [0.8434477083333329, 0.01638285813712686]\n",
      "2.500000000000001 -22.632 [0.8168830079999998, 0.026501792174945377]\n",
      "2.600000000000001 -20.384 [0.7599385207100587, 0.025981940729210905]\n",
      "2.700000000000001 -18.376 [0.7695484773662545, 0.009712345529390327]\n",
      "2.800000000000001 -18.856 [0.7015759693877544, 0.01510544619277047]\n",
      "2.9000000000000012 -16.528 [0.6354799999999995, 0.008020612187442811]\n",
      "3.0000000000000013 -15.904 [0.6184797777777773, 0.015229686495285751]\n",
      "2.269185314213022\n"
     ]
    },
    {
     "data": {
      "image/png": "[encoded data removed]",
      "text/plain": [
       "<Figure size 432x288 with 1 Axes>"
      ]
     },
     "metadata": {
      "needs_background": "light"
     },
     "output_type": "display_data"
    }
   ],
   "source": [
    "if __name__ == \"__main__\":\n",
    "    \"\"\" Scan through some temperatures \"\"\"\n",
    "    # Set parameters here\n",
    "    L = 4  # Linear system size\n",
    "    N_sweeps = 5000  # Number of steps for the measurements\n",
    "    N_eq = 1000  # Number of equilibration steps before the measurements start\n",
    "    N_flips = 10  # Number of steps between measurements\n",
    "    N_bins = 10  # Number of bins use for the error analysis\n",
    "\n",
    "    T_range = np.arange(1.5, 3.1, 0.1)\n",
    "\n",
    "    C_list = []\n",
    "    system = prepare_system(L)\n",
    "    #aqui es donde se miden los observables \n",
    "    for T in T_range:\n",
    "        C_list_bin = []\n",
    "        for k in range(N_bins):\n",
    "            Es = metropolis_loop(system, T, N_sweeps, N_eq, N_flips)\n",
    "\n",
    "            mean_E = np.mean(Es)\n",
    "            mean_E2 = np.mean(Es**2)\n",
    "\n",
    "            C_list_bin.append(1. / T**2. / L**2. * (mean_E2 - mean_E**2))\n",
    "        C_list.append([np.mean(C_list_bin), np.std(C_list_bin) / np.sqrt(N_bins)])\n",
    "\n",
    "        print(T, mean_E, C_list[-1])\n",
    "\n",
    "    # Plot the results\n",
    "    C_list = np.array(C_list)\n",
    "    plt.errorbar(T_range, C_list[:, 0], C_list[:, 1])\n",
    "    Tc = 2. / np.log(1. + np.sqrt(2))\n",
    "    print(Tc)\n",
    "    plt.axvline(Tc, color='r', linestyle='--')\n",
    "    plt.xlabel('$T$')\n",
    "    plt.ylabel('$c$')\n",
    "    plt.show()"
   ]
  },
  {
   "cell_type": "code",
   "execution_count": 10,
   "metadata": {},
   "outputs": [
    {
     "data": {
      "image/png": "[encoded data removed]",
      "text/plain": [
       "<Figure size 720x360 with 3 Axes>"
      ]
     },
     "metadata": {
      "needs_background": "light"
     },
     "output_type": "display_data"
    }
   ],
   "source": [
    "fig, axes = plt.subplots(1, 3, figsize=(10, 5))\n",
    "system = prepare_system(32)\n",
    "Ts =  [5., 2.29, 1.]\n",
    "for i in range(3):\n",
    "    T = Ts[i]\n",
    "    metropolis_loop(system, T, 10000, 1000, 10)  # get typical configurations\n",
    "    axes[i].imshow(system)   # plot it\n",
    "    axes[i].set_title(\"T=\"+str(T))\n",
    "plt.show()"
   ]
  },
  {
   "cell_type": "code",
   "execution_count": null,
   "metadata": {},
   "outputs": [],
   "source": []
  }
 ],
 "metadata": {
  "kernelspec": {
   "display_name": "Python 3",
   "language": "python",
   "name": "python3"
  },
  "language_info": {
   "codemirror_mode": {
    "name": "ipython",
    "version": 3
   },
   "file_extension": ".py",
   "mimetype": "text/x-python",
   "name": "python",
   "nbconvert_exporter": "python",
   "pygments_lexer": "ipython3",
   "version": "3.7.3"
  }
 },
 "nbformat": 4,
 "nbformat_minor": 2
}
